{
 "cells": [
  {
   "cell_type": "code",
   "execution_count": null,
   "metadata": {},
   "outputs": [],
   "source": [
    "veri_uzunluk = [5.1, 4.9, 4.7, 4.6, 5. , 5.4, 4.6, 5. , 4.4, 4.9, 5.4, 4.8, 4.8,\n",
    "       4.3, 5.8, 5.7, 5.4, 5.1, 5.7, 5.1, 5.4, 5.1, 4.6, 5.1, 4.8, 5. ,\n",
    "       5. , 5.2, 5.2, 4.7, 4.8, 5.4, 5.2, 5.5, 4.9, 5. , 5.5, 4.9, 4.4,\n",
    "       5.1, 5. , 4.5, 4.4, 5. , 5.1, 4.8, 5.1, 4.6, 5.3, 5. , 7. , 6.4,\n",
    "       6.9, 5.5, 6.5, 5.7, 6.3, 4.9, 6.6, 5.2, 5. , 5.9, 6. , 6.1, 5.6,\n",
    "       6.7, 5.6, 5.8, 6.2, 5.6, 5.9, 6.1, 6.3, 6.1, 6.4, 6.6, 6.8, 6.7,\n",
    "       6. , 5.7, 5.5, 5.5, 5.8, 6. , 5.4, 6. , 6.7, 6.3, 5.6, 5.5, 5.5,\n",
    "       6.1, 5.8, 5. , 5.6, 5.7, 5.7, 6.2, 5.1, 5.7]\n",
    "veri_genislik = [3.5, 3. , 3.2, 3.1, 3.6, 3.9, 3.4, 3.4, 2.9, 3.1, 3.7, 3.4, 3. ,\n",
    "       3. , 4. , 4.4, 3.9, 3.5, 3.8, 3.8, 3.4, 3.7, 3.6, 3.3, 3.4, 3. ,\n",
    "       3.4, 3.5, 3.4, 3.2, 3.1, 3.4, 4.1, 4.2, 3.1, 3.2, 3.5, 3.1, 3. ,\n",
    "       3.4, 3.5, 2.3, 3.2, 3.5, 3.8, 3. , 3.8, 3.2, 3.7, 3.3, 3.2, 3.2,\n",
    "       3.1, 2.3, 2.8, 2.8, 3.3, 2.4, 2.9, 2.7, 2. , 3. , 2.2, 2.9, 2.9,\n",
    "       3.1, 3. , 2.7, 2.2, 2.5, 3.2, 2.8, 2.5, 2.8, 2.9, 3. , 2.8, 3. ,\n",
    "       2.9, 2.6, 2.4, 2.4, 2.7, 2.7, 3. , 3.4, 3.1, 2.3, 3. , 2.5, 2.6,\n",
    "       3. , 2.6, 2.3, 2.7, 3. , 2.9, 2.9, 2.5, 2.8]\n",
    "veri_sonuc = [0, 0, 0, 0, 0, 0, 0, 0, 0, 0, 0, 0, 0, 0, 0, 0, 0, 0, 0, 0, 0, 0,\n",
    "       0, 0, 0, 0, 0, 0, 0, 0, 0, 0, 0, 0, 0, 0, 0, 0, 0, 0, 0, 0, 0, 0,\n",
    "       0, 0, 0, 0, 0, 0, 1, 1, 1, 1, 1, 1, 1, 1, 1, 1, 1, 1, 1, 1, 1, 1,\n",
    "       1, 1, 1, 1, 1, 1, 1, 1, 1, 1, 1, 1, 1, 1, 1, 1, 1, 1, 1, 1, 1, 1,\n",
    "       1, 1, 1, 1, 1, 1, 1, 1, 1, 1, 1, 1]"
   ]
  },
  {
   "cell_type": "code",
   "execution_count": null,
   "metadata": {
    "scrolled": true
   },
   "outputs": [],
   "source": [
    "## DATASETI %90 TRAIN %10 TEST ICIN AYIRIYORUZ\n",
    "from sklearn.model_selection import train_test_split\n",
    "X_train, X_test, y_train, y_test,Z_train,Z_test = train_test_split(veri_uzunluk, veri_genislik,veri_sonuc, test_size=0.10, random_state=42)\n",
    "print(\"X train: \",len(X_train), \"     X test: \",len(X_test))\n",
    "print(\"Y train: \",len(y_train), \"     Y test: \",len(y_test))\n",
    "print(\"Z train: \",len(Z_train), \"     Z test: \",len(Z_test))\n"
   ]
  },
  {
   "cell_type": "code",
   "execution_count": null,
   "metadata": {},
   "outputs": [],
   "source": [
    "## PERCEPTRON ALGORITMASI\n",
    "\n",
    "tekrar = 1000  ## ITERASYON SAYISI\n",
    "W =[0.5,0.5]   ## BASLANGIC AGIRLIKLARI\n",
    "b = 0.5        ## BASLANGIC BIAS\n",
    "\n",
    "for i in range(0,tekrar):\n",
    "    print(\"Tekrar: \",i)\n",
    "    dur = 0;\n",
    "    for j in range(0,90):\n",
    "        p0 = X_train[j]\n",
    "        p1 = y_train[j]\n",
    "        islem = p0 * W[0] + p1 * W[1] + b\n",
    "        if islem >= 0:\n",
    "            cikis = 1\n",
    "        else:\n",
    "            cikis = 0\n",
    "        if Z_train[j] != cikis:\n",
    "            e = Z_train[j] - cikis\n",
    "            W[0] = W[0] + e * p0\n",
    "            W[1] = W[1] + e * p1\n",
    "            b = b + e\n",
    "        if cikis == Z_train[j]:\n",
    "            hata = 0\n",
    "        else:\n",
    "            hata = 1\n",
    "        dur += hata\n",
    "        print(\"Cıkıs: \",cikis, \"Olması gereken: \",Z_train[j],\"Hata: \",hata)\n",
    "    print(\"--------------------------\")\n",
    "    if(dur == 0):\n",
    "        break\n",
    "    "
   ]
  },
  {
   "cell_type": "code",
   "execution_count": null,
   "metadata": {},
   "outputs": [],
   "source": [
    "i ## iterasyon sayısı"
   ]
  },
  {
   "cell_type": "code",
   "execution_count": null,
   "metadata": {},
   "outputs": [],
   "source": [
    "W ## ağırlık değerleri"
   ]
  },
  {
   "cell_type": "code",
   "execution_count": null,
   "metadata": {},
   "outputs": [],
   "source": [
    "b ## bias değeri"
   ]
  },
  {
   "cell_type": "code",
   "execution_count": null,
   "metadata": {},
   "outputs": [],
   "source": [
    "## TEST EDIYORUZ\n",
    "olay = 0\n",
    "durum = \"durum\"\n",
    "for k in range(0,10):\n",
    "    olay = b + (W[0] * X_test[k]) + (W[1] * y_test[k])\n",
    "    if (olay > 0):\n",
    "        olay= 1\n",
    "        if olay == Z_test[k]:\n",
    "            durum = \"DOĞRU\"\n",
    "        else:\n",
    "            durum =\"YANLIŞ\"\n",
    "        print(\"Sonuc: \",olay,\"Olması gereken: \", Z_test[k],\" \",durum)\n",
    "    else:\n",
    "        olay = 0\n",
    "        if olay == Z_test[k]:\n",
    "            durum = \"DOĞRU\"\n",
    "        else:\n",
    "            durum =\"YANLIŞ\"\n",
    "        print(\"Sonuc: \",olay,\"Olması gereken: \", Z_test[k],\" \",durum)\n",
    "        \n",
    "## OLAY DEGERI 0'DAN BUYUKSE 1, 0 VE 0'DAN KUCUKSE 0 ALIYORUZ VE SONUC ILE KARSILASTIRIYORUZ"
   ]
  },
  {
   "cell_type": "code",
   "execution_count": null,
   "metadata": {},
   "outputs": [],
   "source": [
    "## GRAFIK UZERINDE DATASETI GOSTERELIM\n",
    "import matplotlib.pyplot as plt\n",
    "\n",
    "plt.scatter(veri_uzunluk[:50], veri_genislik[:50], marker='o', color=\"blue\")\n",
    "plt.scatter(veri_uzunluk[50:], veri_genislik[50:], marker='o', color=\"red\")\n",
    "plt.xlabel('sepal length')\n",
    "plt.ylabel('sepal width')\n",
    "plt.title('Iris-setosa   / Iris-versicolor')\n",
    "plt.show()"
   ]
  },
  {
   "cell_type": "code",
   "execution_count": null,
   "metadata": {},
   "outputs": [],
   "source": []
  }
 ],
 "metadata": {
  "kernelspec": {
   "display_name": "Python 3",
   "language": "python",
   "name": "python3"
  },
  "language_info": {
   "codemirror_mode": {
    "name": "ipython",
    "version": 3
   },
   "file_extension": ".py",
   "mimetype": "text/x-python",
   "name": "python",
   "nbconvert_exporter": "python",
   "pygments_lexer": "ipython3",
   "version": "3.8.5"
  }
 },
 "nbformat": 4,
 "nbformat_minor": 2
}
